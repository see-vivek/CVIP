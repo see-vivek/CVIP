{
  "nbformat": 4,
  "nbformat_minor": 0,
  "metadata": {
    "colab": {
      "private_outputs": true,
      "provenance": []
    },
    "kernelspec": {
      "name": "python3",
      "display_name": "Python 3"
    },
    "language_info": {
      "name": "python"
    }
  },
  "cells": [
    {
      "cell_type": "markdown",
      "source": [
        "##Project Title:- Breast Cancer Prediction."
      ],
      "metadata": {
        "id": "bFHIFmSRIZUs"
      }
    },
    {
      "cell_type": "markdown",
      "source": [
        "##BY :- VIVEK SINGH"
      ],
      "metadata": {
        "id": "bvRFKduvDT6z"
      }
    },
    {
      "cell_type": "markdown",
      "source": [
        "##Introduction:"
      ],
      "metadata": {
        "id": "XHRTE7NlIpgF"
      }
    },
    {
      "cell_type": "markdown",
      "source": [
        "Worldwide, breast cancer is the most common type of cancer in women and the second highest in terms of mortality rates.Diagnosis of breast cancer is performed when an abnormal lump is found (from self-examination or x-ray) or a tiny speck of calcium is seen (on an x-ray). After a suspicious lump is found, the doctor will conduct a diagnosis to determine whether it is cancerous and, if so, whether it has spread to other parts of the body.\n",
        "\n",
        "This breast cancer dataset was obtained from the University of Wisconsin Hospitals, Madison from Dr. William H. Wolberg."
      ],
      "metadata": {
        "id": "Jt1o3e3PItwN"
      }
    },
    {
      "cell_type": "markdown",
      "source": [
        "##Problem Statement:"
      ],
      "metadata": {
        "id": "rwtMvdhsJNdU"
      }
    },
    {
      "cell_type": "markdown",
      "source": [
        "The goal is to predict whether the patient has a risk of developing Breast Cancer in near future or not."
      ],
      "metadata": {
        "id": "6FnBSBqXJViv"
      }
    },
    {
      "cell_type": "markdown",
      "source": [
        "##Data Description:"
      ],
      "metadata": {
        "id": "Lksu4oj5JrbQ"
      }
    },
    {
      "cell_type": "markdown",
      "source": [
        "The dataset provides the patient's information. It includes over 569 records and 32 attributes. Variables Each attribute is a potential risk factor."
      ],
      "metadata": {
        "id": "xj1ZOslNJ2hq"
      }
    },
    {
      "cell_type": "markdown",
      "source": [
        "Given breast cancer results from breast fine needle aspiration (FNA) test (is a quick and simple procedure to perform, which removes some fluid or cells from a breast lesion or cyst (a lump, sore or swelling) with a fine needle similar to a blood sample needle). Since this build a model that can classify a breast cancer tumor using two training classification:\n",
        "\n",
        "1= Malignant (Cancerous) - Present\n",
        "\n",
        "0= Benign (Not Cancerous) -Absent\n",
        "\n",
        "The Breast Cancer datasets is available machine learning repository maintained by the University of California, Irvine. The dataset contains 569 samples of malignant and benign tumor cells.\n",
        "\n",
        "The first two columns in the dataset store the unique ID numbers of the samples and the corresponding diagnosis (M=malignant, B=benign), respectively. The columns 3-32 contain 30 real-value features that have been computed from digitized images of the cell nuclei, which can be used to build a model to predict whether a tumor is benign or malignant."
      ],
      "metadata": {
        "id": "qgOmJz7XLSXH"
      }
    },
    {
      "cell_type": "markdown",
      "source": [
        "##Loading Dataset and Libraries."
      ],
      "metadata": {
        "id": "8gvJakctNFwq"
      }
    },
    {
      "cell_type": "code",
      "source": [
        "##importing libraries\n",
        "import pandas as pd\n",
        "\n",
        "import numpy as np\n",
        "import seaborn as sns\n",
        "import matplotlib.pyplot as plt\n",
        "import missingno as msno\n",
        "\n",
        "import warnings\n",
        "warnings.filterwarnings('ignore')\n",
        "\n",
        "sns.set()\n",
        "plt.style.use('ggplot')\n"
      ],
      "metadata": {
        "id": "q-mM1qaWNeRY"
      },
      "execution_count": null,
      "outputs": []
    },
    {
      "cell_type": "code",
      "source": [
        "#importing dataset from google drive\n",
        "\n",
        "from google.colab import drive\n",
        "drive.mount('/content/drive')\n",
        "\n"
      ],
      "metadata": {
        "id": "JvA7uqHyNu3n"
      },
      "execution_count": null,
      "outputs": []
    },
    {
      "cell_type": "code",
      "source": [
        "df = pd.read_csv('/content/drive/MyDrive/coders cave dataset & certificate/breast-cancer.csv')"
      ],
      "metadata": {
        "id": "7FzvSXRaU7tq"
      },
      "execution_count": null,
      "outputs": []
    },
    {
      "cell_type": "code",
      "source": [
        "# Inspecting the data\n",
        "df.head()"
      ],
      "metadata": {
        "id": "5G5jU8LVPcxQ"
      },
      "execution_count": null,
      "outputs": []
    },
    {
      "cell_type": "code",
      "source": [
        "# Inspecting the number of rows and columns in dataframe\n",
        "df.shape\n",
        "# There are 569 rows and 32 columns in the dataset"
      ],
      "metadata": {
        "id": "Bachgi_MPuz_"
      },
      "execution_count": null,
      "outputs": []
    },
    {
      "cell_type": "code",
      "source": [
        "#Reviewing data type with info of dataframe.\n",
        "df.info()"
      ],
      "metadata": {
        "id": "JqfTHaJtQFbf"
      },
      "execution_count": null,
      "outputs": []
    },
    {
      "cell_type": "code",
      "source": [
        "# getting the mathemetical insight of the dataframe\n",
        "df.describe()"
      ],
      "metadata": {
        "id": "3rC6XWGqQWo4"
      },
      "execution_count": null,
      "outputs": []
    },
    {
      "cell_type": "code",
      "source": [
        "# checking for any missing variables in a dataset.\n",
        "df.isnull().any()"
      ],
      "metadata": {
        "id": "rgibaXt9QpqU"
      },
      "execution_count": null,
      "outputs": []
    },
    {
      "cell_type": "markdown",
      "source": [
        "- There is no data missing from the dataset"
      ],
      "metadata": {
        "id": "LIZljvKcQ41N"
      }
    },
    {
      "cell_type": "code",
      "source": [
        "#getting to know about unique parameters.\n",
        "df.diagnosis.unique()"
      ],
      "metadata": {
        "id": "ecLZYqZHRBuA"
      },
      "execution_count": null,
      "outputs": []
    },
    {
      "cell_type": "markdown",
      "source": [
        "From the results above, diagnosis is a categorical variable, because it represents a fix number of possible values (i.e, Malignant, of Benign. The machine learning algorithms wants numbers, and not strings, as their inputs so we need some method of coding to convert them."
      ],
      "metadata": {
        "id": "PegKl5dWReTQ"
      }
    },
    {
      "cell_type": "markdown",
      "source": [
        "## Performing Data Wrangling."
      ],
      "metadata": {
        "id": "spFEKN3XRsix"
      }
    },
    {
      "cell_type": "code",
      "source": [
        "# Id column is redundant and not useful, we want to drop it\n",
        "df.drop('id', axis =1, inplace=True)\n",
        "df\n"
      ],
      "metadata": {
        "id": "PgtmKSzDR-jq"
      },
      "execution_count": null,
      "outputs": []
    },
    {
      "cell_type": "code",
      "source": [
        "#converting\n",
        "#1= Malignant (Cancerous) - Present\n",
        "#0= Benign (Not Cancerous) -Absent\n",
        "df['diagnosis']=np.where(df['diagnosis']=='M',1,0)\n",
        "df"
      ],
      "metadata": {
        "id": "aioUXBD9SVFQ"
      },
      "execution_count": null,
      "outputs": []
    },
    {
      "cell_type": "code",
      "source": [
        "# grouping by malignant and benign\n",
        "df= df.groupby('diagnosis')\n",
        "df.size()\n"
      ],
      "metadata": {
        "id": "mlagb3XYTnSj"
      },
      "execution_count": null,
      "outputs": []
    },
    {
      "cell_type": "markdown",
      "source": [
        "- Malignant = 1 (indicates prescence of cancer cells)\n",
        "- Benign = 0 (indicates abscence)"
      ],
      "metadata": {
        "id": "Hei6izl8VUxE"
      }
    },
    {
      "cell_type": "markdown",
      "source": [
        "## DATA VISULIZATION"
      ],
      "metadata": {
        "id": "kbXxd7jcVtmY"
      }
    },
    {
      "cell_type": "code",
      "source": [
        "#lets get the frequency of cancer diagnosis\n",
        "plt.figure(figsize=(8,4))\n",
        "sns.countplot(x = df.diagnosis)\n",
        "plt.title('frequency of cancer diagnosis')\n",
        "plt.show()"
      ],
      "metadata": {
        "id": "Y7R08HN5VzaV"
      },
      "execution_count": null,
      "outputs": []
    },
    {
      "cell_type": "code",
      "source": [
        "df.describe()\n",
        "plt.hist(df['diagnosis'])\n",
        "plt.title('Diagnosis (M=1 , B=0)')\n",
        "plt.show()"
      ],
      "metadata": {
        "id": "69CIdr6Avvlr"
      },
      "execution_count": null,
      "outputs": []
    },
    {
      "cell_type": "code",
      "source": [
        "plt.figure(figsize = (20, 15))\n",
        "plotnumber = 1\n",
        "\n",
        "for column in df:\n",
        "    if plotnumber <= 30:\n",
        "        ax = plt.subplot(5, 6, plotnumber)\n",
        "        sns.distplot(df[column])\n",
        "        plt.xlabel(column)\n",
        "\n",
        "    plotnumber += 1\n",
        "\n",
        "plt.tight_layout()\n",
        "plt.show()"
      ],
      "metadata": {
        "id": "-AjIUA8pvxU4"
      },
      "execution_count": null,
      "outputs": []
    },
    {
      "cell_type": "markdown",
      "source": [
        "##Observation"
      ],
      "metadata": {
        "id": "t4l1FXSw9rt-"
      }
    },
    {
      "cell_type": "markdown",
      "source": [
        "We can see that perhaps the attributes perimeter,radius, area, concavity,ompactness may have an exponential distribution ( ). We can also see that perhaps the texture and smooth and symmetry attributes may have a Gaussian or nearly Gaussian distribution."
      ],
      "metadata": {
        "id": "r57xMPrg9uss"
      }
    },
    {
      "cell_type": "code",
      "source": [
        "# heatmap\n",
        "\n",
        "plt.figure(figsize = (20, 12))\n",
        "\n",
        "corr = df.corr()\n",
        "mask = np.triu(np.ones_like(corr, dtype = bool))\n",
        "\n",
        "sns.heatmap(corr, mask = mask, linewidths = 1, annot = True, fmt = \".2f\")\n",
        "plt.show()"
      ],
      "metadata": {
        "id": "wvr8muuhv01G"
      },
      "execution_count": null,
      "outputs": []
    },
    {
      "cell_type": "markdown",
      "source": [
        "##Observation"
      ],
      "metadata": {
        "id": "So9LivbC9-S_"
      }
    },
    {
      "cell_type": "markdown",
      "source": [
        "- We can see strong positive relationship exists with mean values paramaters\n",
        "  between 1-0.75;.\n",
        "\n",
        "- The mean area of the tissue nucleus has a strong positive correlation with\n",
        "  mean values of radius and parameter;\n",
        "- Some paramters are moderately positive corrlated (r between 0.5-0.75)are\n",
        "  concavity and area, concavity and perimeter etc\n",
        "- we see some strong negative correlation between fractal_dimension with  \n",
        "  radius, texture, parameter mean values.\n",
        "- We can see that there are many columns which are very highly                  correlated which causes multicollinearity so we have to remove highly  \n",
        "  correlated features."
      ],
      "metadata": {
        "id": "TawMqcgC-BRf"
      }
    },
    {
      "cell_type": "code",
      "source": [
        "# removing highly correlated features\n",
        "\n",
        "corr_matrix = df.corr().abs()\n",
        "\n",
        "mask = np.triu(np.ones_like(corr_matrix, dtype = bool))\n",
        "tri_df = corr_matrix.mask(mask)\n",
        "\n",
        "to_drop = [x for x in tri_df.columns if any(tri_df[x] > 0.92)]\n",
        "\n",
        "df = df.drop(to_drop, axis = 1)\n",
        "\n",
        "print(f\"The reduced dataframe has {df.shape[1]} columns.\")"
      ],
      "metadata": {
        "id": "TjJjJlUmwCLR"
      },
      "execution_count": null,
      "outputs": []
    },
    {
      "cell_type": "markdown",
      "source": [
        "- After removing highly corelated features we are left with only 23 columns."
      ],
      "metadata": {
        "id": "FYy_341Z_GtJ"
      }
    },
    {
      "cell_type": "code",
      "source": [
        "to_drop"
      ],
      "metadata": {
        "id": "nwgQq6MIwHCf"
      },
      "execution_count": null,
      "outputs": []
    },
    {
      "cell_type": "code",
      "source": [
        "df.info()"
      ],
      "metadata": {
        "id": "1h_b6VjSwLHI"
      },
      "execution_count": null,
      "outputs": []
    },
    {
      "cell_type": "code",
      "source": [
        "# creating features and label\n",
        "\n",
        "X = df.drop('diagnosis', axis = 1)\n",
        "y = df['diagnosis']"
      ],
      "metadata": {
        "id": "uZZDDfRtwOlC"
      },
      "execution_count": null,
      "outputs": []
    },
    {
      "cell_type": "markdown",
      "source": [
        "##Assesing Model Accuracy:"
      ],
      "metadata": {
        "id": "epsW3ooJAkBa"
      }
    },
    {
      "cell_type": "markdown",
      "source": [
        "- Split data into training and test sets.\n",
        "- The simplest method to evaluate the performance of a machine learning\n",
        "  algorithm is to use different training and testing datasets. Here I will\n",
        "  Split the available data into a training set and a testing set. (70% training, 30% test)\n",
        "- Train the algorithm on the first part,\n",
        "  make predictions on the second part and\n",
        "  evaluate the predictions against the expected results.\n",
        "- The size of the split can depend on the size and specifics of your dataset,\n",
        "  although it is common to use 67% of the data for training and the remaining 33% for testing."
      ],
      "metadata": {
        "id": "c8lgYrD5AgkH"
      }
    },
    {
      "cell_type": "code",
      "source": [
        "# splitting data into training and test set\n",
        "\n",
        "from sklearn.model_selection import train_test_split\n",
        "\n",
        "X_train, X_test, y_train, y_test = train_test_split(X, y, test_size = 0.30, random_state = 0)"
      ],
      "metadata": {
        "id": "57x6IOTawTIQ"
      },
      "execution_count": null,
      "outputs": []
    },
    {
      "cell_type": "code",
      "source": [
        "# scaling data\n",
        "\n",
        "from sklearn.preprocessing import StandardScaler\n",
        "\n",
        "scaler = StandardScaler()\n",
        "\n",
        "X_train = scaler.fit_transform(X_train)\n",
        "X_test = scaler.transform(X_test)"
      ],
      "metadata": {
        "id": "kGXmoUQNwWLN"
      },
      "execution_count": null,
      "outputs": []
    },
    {
      "cell_type": "markdown",
      "source": [
        "##Logistic Regression"
      ],
      "metadata": {
        "id": "ahqWTyPdwhB_"
      }
    },
    {
      "cell_type": "code",
      "source": [
        "# fitting data to model\n",
        "\n",
        "from sklearn.linear_model import LogisticRegression\n",
        "\n",
        "log_reg = LogisticRegression()\n",
        "log_reg.fit(X_train, y_train)"
      ],
      "metadata": {
        "id": "6uV5-1oGwjgT"
      },
      "execution_count": null,
      "outputs": []
    },
    {
      "cell_type": "code",
      "source": [
        "# model predictions\n",
        "\n",
        "y_pred = log_reg.predict(X_test)"
      ],
      "metadata": {
        "id": "-0JFFFthwoyV"
      },
      "execution_count": null,
      "outputs": []
    },
    {
      "cell_type": "code",
      "source": [
        "# accuracy score\n",
        "\n",
        "from sklearn.metrics import accuracy_score, confusion_matrix, classification_report\n",
        "\n",
        "print(accuracy_score(y_train, log_reg.predict(X_train)))\n",
        "\n",
        "log_reg_acc = accuracy_score(y_test, log_reg.predict(X_test))\n",
        "print(log_reg_acc)"
      ],
      "metadata": {
        "id": "rJvrSMedwrre"
      },
      "execution_count": null,
      "outputs": []
    },
    {
      "cell_type": "code",
      "source": [
        "# confusion matrix\n",
        "\n",
        "print(confusion_matrix(y_test, y_pred))"
      ],
      "metadata": {
        "id": "x73DRyI-wvjZ"
      },
      "execution_count": null,
      "outputs": []
    },
    {
      "cell_type": "code",
      "source": [
        "# classification report\n",
        "\n",
        "print(classification_report(y_test, y_pred))"
      ],
      "metadata": {
        "id": "8fMzQFTyw-rm"
      },
      "execution_count": null,
      "outputs": []
    },
    {
      "cell_type": "markdown",
      "source": [
        "###K Neighbors Classifier (KNN)"
      ],
      "metadata": {
        "id": "ghLdzLk0xDM5"
      }
    },
    {
      "cell_type": "code",
      "source": [
        "from sklearn.neighbors import KNeighborsClassifier\n",
        "\n",
        "knn = KNeighborsClassifier()\n",
        "knn.fit(X_train, y_train)"
      ],
      "metadata": {
        "id": "VS_tW82FxHmb"
      },
      "execution_count": null,
      "outputs": []
    },
    {
      "cell_type": "code",
      "source": [
        "# model predictions\n",
        "\n",
        "y_pred = knn.predict(X_test)"
      ],
      "metadata": {
        "id": "YX0OqWZkwy6O"
      },
      "execution_count": null,
      "outputs": []
    },
    {
      "cell_type": "code",
      "source": [
        "# accuracy score\n",
        "\n",
        "print(accuracy_score(y_train, knn.predict(X_train)))\n",
        "\n",
        "knn_acc = accuracy_score(y_test, knn.predict(X_test))\n",
        "print(knn_acc)"
      ],
      "metadata": {
        "id": "BeiRBmakxOa3"
      },
      "execution_count": null,
      "outputs": []
    },
    {
      "cell_type": "code",
      "source": [
        "# confusion matrix\n",
        "\n",
        "print(confusion_matrix(y_test, y_pred))"
      ],
      "metadata": {
        "id": "igZ2J78GxR0C"
      },
      "execution_count": null,
      "outputs": []
    },
    {
      "cell_type": "code",
      "source": [
        "# classification report\n",
        "\n",
        "print(classification_report(y_test, y_pred))"
      ],
      "metadata": {
        "id": "_Exz2Z9HxWGg"
      },
      "execution_count": null,
      "outputs": []
    },
    {
      "cell_type": "markdown",
      "source": [
        "##Support Vector Machine (SVM)"
      ],
      "metadata": {
        "id": "A7TNYhxsxc2z"
      }
    },
    {
      "cell_type": "code",
      "source": [
        "from sklearn.svm import SVC\n",
        "from sklearn.model_selection import GridSearchCV\n",
        "\n",
        "svc = SVC(probability=True)\n",
        "parameters = {\n",
        "    'gamma' : [0.0001, 0.001, 0.01, 0.1],\n",
        "    'C' : [0.01, 0.05, 0.5, 0.1, 1, 10, 15, 20]\n",
        "}\n",
        "\n",
        "grid_search = GridSearchCV(svc, parameters)\n",
        "grid_search.fit(X_train, y_train)"
      ],
      "metadata": {
        "id": "b74LVpkixfUI"
      },
      "execution_count": null,
      "outputs": []
    },
    {
      "cell_type": "code",
      "source": [
        "# best parameters\n",
        "\n",
        "grid_search.best_params_"
      ],
      "metadata": {
        "id": "Ct7iuTBmxkdg"
      },
      "execution_count": null,
      "outputs": []
    },
    {
      "cell_type": "code",
      "source": [
        "# best score\n",
        "\n",
        "grid_search.best_score_"
      ],
      "metadata": {
        "id": "3EWPwTUGx2Ii"
      },
      "execution_count": null,
      "outputs": []
    },
    {
      "cell_type": "code",
      "source": [
        "svc = SVC(C = 10, gamma = 0.01, probability=True)\n",
        "svc.fit(X_train, y_train)"
      ],
      "metadata": {
        "id": "f1VrdqSmx5zr"
      },
      "execution_count": null,
      "outputs": []
    },
    {
      "cell_type": "code",
      "source": [
        "# model predictions\n",
        "\n",
        "y_pred = svc.predict(X_test)"
      ],
      "metadata": {
        "id": "RDrGaET0x9jB"
      },
      "execution_count": null,
      "outputs": []
    },
    {
      "cell_type": "code",
      "source": [
        "# accuracy score\n",
        "\n",
        "print(accuracy_score(y_train, svc.predict(X_train)))\n",
        "\n",
        "svc_acc = accuracy_score(y_test, svc.predict(X_test))\n",
        "print(svc_acc)"
      ],
      "metadata": {
        "id": "QPBDAjhbyA7b"
      },
      "execution_count": null,
      "outputs": []
    },
    {
      "cell_type": "code",
      "source": [
        "# confusion matrix\n",
        "\n",
        "print(confusion_matrix(y_test, y_pred))"
      ],
      "metadata": {
        "id": "brhOAtsTyEiD"
      },
      "execution_count": null,
      "outputs": []
    },
    {
      "cell_type": "code",
      "source": [
        "# classification report\n",
        "\n",
        "print(classification_report(y_test, y_pred))"
      ],
      "metadata": {
        "id": "m8Pman1jyISb"
      },
      "execution_count": null,
      "outputs": []
    },
    {
      "cell_type": "markdown",
      "source": [
        "###Decision Tree Classifier"
      ],
      "metadata": {
        "id": "2BfNsDguyO8e"
      }
    },
    {
      "cell_type": "code",
      "source": [
        "from sklearn.tree import DecisionTreeClassifier\n",
        "\n",
        "dtc = DecisionTreeClassifier()\n",
        "\n",
        "parameters = {\n",
        "    'criterion' : ['gini', 'entropy'],\n",
        "    'max_depth' : range(2, 32, 1),\n",
        "    'min_samples_leaf' : range(1, 10, 1),\n",
        "    'min_samples_split' : range(2, 10, 1),\n",
        "    'splitter' : ['best', 'random']\n",
        "}\n",
        "\n",
        "grid_search_dt = GridSearchCV(dtc, parameters, cv = 5, n_jobs = -1, verbose = 1)\n",
        "grid_search_dt.fit(X_train, y_train)"
      ],
      "metadata": {
        "id": "HnTSQ2CdyRwC"
      },
      "execution_count": null,
      "outputs": []
    },
    {
      "cell_type": "code",
      "source": [
        "# best parameters\n",
        "\n",
        "grid_search_dt.best_params_"
      ],
      "metadata": {
        "id": "0BwPha5qyXPm"
      },
      "execution_count": null,
      "outputs": []
    },
    {
      "cell_type": "code",
      "source": [
        "# best score\n",
        "\n",
        "grid_search_dt.best_score_"
      ],
      "metadata": {
        "id": "DHGasUlsyavE"
      },
      "execution_count": null,
      "outputs": []
    },
    {
      "cell_type": "code",
      "source": [
        "dtc = DecisionTreeClassifier(criterion= 'entropy', max_depth= 19, min_samples_leaf= 4, min_samples_split= 6, splitter= 'random')\n",
        "dtc.fit(X_train, y_train)"
      ],
      "metadata": {
        "id": "TqGpPS8zye0U"
      },
      "execution_count": null,
      "outputs": []
    },
    {
      "cell_type": "code",
      "source": [
        "y_pred = dtc.predict(X_test)"
      ],
      "metadata": {
        "id": "pPG2-O6ZynYh"
      },
      "execution_count": null,
      "outputs": []
    },
    {
      "cell_type": "code",
      "source": [
        "# accuracy score\n",
        "\n",
        "print(accuracy_score(y_train, dtc.predict(X_train)))\n",
        "\n",
        "dtc_acc = accuracy_score(y_test, dtc.predict(X_test))\n",
        "print(dtc_acc)"
      ],
      "metadata": {
        "id": "esxfqR2Cysb8"
      },
      "execution_count": null,
      "outputs": []
    },
    {
      "cell_type": "code",
      "source": [
        "# confusion matrix\n",
        "\n",
        "print(confusion_matrix(y_test, y_pred))"
      ],
      "metadata": {
        "id": "ZC_ivm7SyxRD"
      },
      "execution_count": null,
      "outputs": []
    },
    {
      "cell_type": "code",
      "source": [
        "# classification report\n",
        "\n",
        "print(classification_report(y_test, y_pred))"
      ],
      "metadata": {
        "id": "F_OLaZpw3LFg"
      },
      "execution_count": null,
      "outputs": []
    },
    {
      "cell_type": "markdown",
      "source": [
        "##Random Forest Classifier"
      ],
      "metadata": {
        "id": "LufN5mcy3Tc5"
      }
    },
    {
      "cell_type": "code",
      "source": [
        "from sklearn.ensemble import RandomForestClassifier\n",
        "\n",
        "rand_clf = RandomForestClassifier(criterion = 'entropy', max_depth = 10, max_features = 'auto', min_samples_leaf = 2, min_samples_split = 3, n_estimators = 130)\n",
        "rand_clf.fit(X_train, y_train)"
      ],
      "metadata": {
        "id": "hEq516Yy3WKE"
      },
      "execution_count": null,
      "outputs": []
    },
    {
      "cell_type": "code",
      "source": [
        "y_pred = rand_clf.predict(X_test)"
      ],
      "metadata": {
        "id": "fK0aVJAE3bbe"
      },
      "execution_count": null,
      "outputs": []
    },
    {
      "cell_type": "code",
      "source": [
        "# accuracy score\n",
        "\n",
        "print(accuracy_score(y_train, rand_clf.predict(X_train)))\n",
        "\n",
        "ran_clf_acc = accuracy_score(y_test, y_pred)\n",
        "print(ran_clf_acc)"
      ],
      "metadata": {
        "id": "7JivyE9t3fcw"
      },
      "execution_count": null,
      "outputs": []
    },
    {
      "cell_type": "code",
      "source": [
        "# confusion matrix\n",
        "\n",
        "print(confusion_matrix(y_test, y_pred))"
      ],
      "metadata": {
        "id": "pdEl_kmu3jM5"
      },
      "execution_count": null,
      "outputs": []
    },
    {
      "cell_type": "code",
      "source": [
        "# classification report\n",
        "\n",
        "print(classification_report(y_test, y_pred))"
      ],
      "metadata": {
        "id": "sTXoCGk-3nMq"
      },
      "execution_count": null,
      "outputs": []
    },
    {
      "cell_type": "markdown",
      "source": [
        "##Gradient Boosting Classifier"
      ],
      "metadata": {
        "id": "KOqU6Sw03uyF"
      }
    },
    {
      "cell_type": "code",
      "source": [
        "from sklearn.ensemble import GradientBoostingClassifier\n",
        "\n",
        "gbc = GradientBoostingClassifier()\n",
        "\n",
        "parameters = {\n",
        "    'loss': ['deviance', 'exponential'],\n",
        "    'learning_rate': [0.001, 0.1],\n",
        "    'n_estimators': [100, 150, 180]\n",
        "}\n",
        "\n",
        "grid_search_gbc = GridSearchCV(gbc, parameters, cv = 2, n_jobs = -5, verbose = 1)\n",
        "grid_search_gbc.fit(X_train, y_train)"
      ],
      "metadata": {
        "id": "7fp69UpY3xvJ"
      },
      "execution_count": null,
      "outputs": []
    },
    {
      "cell_type": "code",
      "source": [
        "# best parameters\n",
        "\n",
        "grid_search_gbc.best_params_"
      ],
      "metadata": {
        "id": "X2iFkXi232HF"
      },
      "execution_count": null,
      "outputs": []
    },
    {
      "cell_type": "code",
      "source": [
        "# best score\n",
        "\n",
        "grid_search_gbc.best_score_"
      ],
      "metadata": {
        "id": "AH3mPSbU36we"
      },
      "execution_count": null,
      "outputs": []
    },
    {
      "cell_type": "code",
      "source": [
        "gbc = GradientBoostingClassifier(learning_rate = 0.1, loss = 'exponential', n_estimators = 180)\n",
        "gbc.fit(X_train, y_train)"
      ],
      "metadata": {
        "id": "T5nQmcCU3-yl"
      },
      "execution_count": null,
      "outputs": []
    },
    {
      "cell_type": "code",
      "source": [
        "y_pred = gbc.predict(X_test)"
      ],
      "metadata": {
        "id": "sZ1AV8cA4Cup"
      },
      "execution_count": null,
      "outputs": []
    },
    {
      "cell_type": "code",
      "source": [
        "# accuracy score\n",
        "\n",
        "print(accuracy_score(y_train, gbc.predict(X_train)))\n",
        "\n",
        "gbc_acc = accuracy_score(y_test, y_pred)\n",
        "print(gbc_acc)"
      ],
      "metadata": {
        "id": "TGIJmx9H4GZO"
      },
      "execution_count": null,
      "outputs": []
    },
    {
      "cell_type": "code",
      "source": [
        "# confusion matrix\n",
        "\n",
        "print(confusion_matrix(y_test, y_pred))"
      ],
      "metadata": {
        "id": "hd8Xw9YV4KJ3"
      },
      "execution_count": null,
      "outputs": []
    },
    {
      "cell_type": "code",
      "source": [
        "# classification report\n",
        "\n",
        "print(classification_report(y_test, y_pred))"
      ],
      "metadata": {
        "id": "Zv99l7eP4OP2"
      },
      "execution_count": null,
      "outputs": []
    },
    {
      "cell_type": "markdown",
      "source": [
        "##Extreme Gradient Boosting"
      ],
      "metadata": {
        "id": "SKaoKkh74STM"
      }
    },
    {
      "cell_type": "code",
      "source": [
        "from xgboost import XGBClassifier\n",
        "\n",
        "xgb = XGBClassifier(objective = 'binary:logistic', learning_rate = 0.01, max_depth = 5, n_estimators = 180)\n",
        "\n",
        "xgb.fit(X_train, y_train)"
      ],
      "metadata": {
        "id": "YFZRz2hj4W2n"
      },
      "execution_count": null,
      "outputs": []
    },
    {
      "cell_type": "code",
      "source": [
        "y_pred = xgb.predict(X_test)"
      ],
      "metadata": {
        "id": "MGvrBgrn4bet"
      },
      "execution_count": null,
      "outputs": []
    },
    {
      "cell_type": "code",
      "source": [
        "# accuracy score\n",
        "\n",
        "print(accuracy_score(y_train, xgb.predict(X_train)))\n",
        "\n",
        "xgb_acc = accuracy_score(y_test, y_pred)\n",
        "print(xgb_acc)"
      ],
      "metadata": {
        "id": "Ws_wkh9a4fRK"
      },
      "execution_count": null,
      "outputs": []
    },
    {
      "cell_type": "code",
      "source": [
        "# confusion matrix\n",
        "\n",
        "print(confusion_matrix(y_test, y_pred))"
      ],
      "metadata": {
        "id": "6T3jYihz4iuQ"
      },
      "execution_count": null,
      "outputs": []
    },
    {
      "cell_type": "code",
      "source": [
        "# classification report\n",
        "\n",
        "print(classification_report(y_test, y_pred))"
      ],
      "metadata": {
        "id": "V9J9nshU4mOL"
      },
      "execution_count": null,
      "outputs": []
    },
    {
      "cell_type": "markdown",
      "source": [
        "###Model Comparison"
      ],
      "metadata": {
        "id": "gaa4hgwi4tO4"
      }
    },
    {
      "cell_type": "code",
      "source": [
        "models = pd.DataFrame({\n",
        "    'Model': ['Logistic Regression', 'KNN', 'SVM', 'Decision Tree Classifier', 'Random Forest Classifier', 'Gradient Boosting Classifier', 'XgBoost'],\n",
        "    'Score': [100*round(log_reg_acc,4), 100*round(knn_acc,4), 100*round(svc_acc,4), 100*round(dtc_acc,4), 100*round(ran_clf_acc,4),\n",
        "              100*round(gbc_acc,4), 100*round(xgb_acc,4)]\n",
        "})\n",
        "models.sort_values(by = 'Score', ascending = False)"
      ],
      "metadata": {
        "id": "E6l7NVqT4vQm"
      },
      "execution_count": null,
      "outputs": []
    },
    {
      "cell_type": "code",
      "source": [
        "import pickle\n",
        "model = svc\n",
        "pickle.dump(model, open(\"breast_cancer.pkl\",'wb'))"
      ],
      "metadata": {
        "id": "iGEhgpzJ4zzL"
      },
      "execution_count": null,
      "outputs": []
    },
    {
      "cell_type": "code",
      "source": [
        "from sklearn import metrics\n",
        "plt.figure(figsize=(8,5))\n",
        "models = [\n",
        "{\n",
        "    'label': 'LR',\n",
        "    'model': log_reg,\n",
        "},\n",
        "{\n",
        "    'label': 'DT',\n",
        "    'model': dtc,\n",
        "},\n",
        "{\n",
        "    'label': 'SVM',\n",
        "    'model': svc,\n",
        "},\n",
        "{\n",
        "    'label': 'KNN',\n",
        "    'model': knn,\n",
        "},\n",
        "{\n",
        "    'label': 'XGBoost',\n",
        "    'model': xgb,\n",
        "},\n",
        "{\n",
        "    'label': 'RF',\n",
        "    'model': rand_clf,\n",
        "},\n",
        "{\n",
        "    'label': 'GBDT',\n",
        "    'model': gbc,\n",
        "}\n",
        "]\n",
        "for m in models:\n",
        "    model = m['model']\n",
        "    model.fit(X_train, y_train)\n",
        "    y_pred=model.predict(X_test)\n",
        "    fpr1, tpr1, thresholds = metrics.roc_curve(y_test, model.predict_proba(X_test)[:,1])\n",
        "    auc = metrics.roc_auc_score(y_test,model.predict(X_test))\n",
        "    plt.plot(fpr1, tpr1, label='%s - ROC (area = %0.2f)' % (m['label'], auc))\n",
        "\n",
        "plt.plot([0, 1], [0, 1],'r--')\n",
        "plt.xlim([-0.01, 1.0])\n",
        "plt.ylim([0.0, 1.05])\n",
        "plt.xlabel('1 - Specificity (False Positive Rate)', fontsize=12)\n",
        "plt.ylabel('Sensitivity (True Positive Rate)', fontsize=12)\n",
        "plt.title('ROC - Breast Cancer Prediction', fontsize=12)\n",
        "plt.legend(loc=\"lower right\", fontsize=12)\n",
        "plt.show()"
      ],
      "metadata": {
        "id": "V0OMc5yG44GL"
      },
      "execution_count": null,
      "outputs": []
    },
    {
      "cell_type": "code",
      "source": [
        "from sklearn import metrics\n",
        "import numpy as np\n",
        "import matplotlib.pyplot as plt\n",
        "models = [\n",
        "{\n",
        "    'label': 'LR',\n",
        "    'model': log_reg,\n",
        "},\n",
        "{\n",
        "    'label': 'DT',\n",
        "    'model': dtc,\n",
        "},\n",
        "{\n",
        "    'label': 'SVM',\n",
        "    'model': svc,\n",
        "},\n",
        "{\n",
        "    'label': 'KNN',\n",
        "    'model': knn,\n",
        "},\n",
        "{\n",
        "    'label': 'XGBoost',\n",
        "    'model': xgb,\n",
        "},\n",
        "{\n",
        "    'label': 'RF',\n",
        "    'model': rand_clf,\n",
        "},\n",
        "{\n",
        "    'label': 'GBDT',\n",
        "    'model': gbc,\n",
        "}\n",
        "]\n",
        "\n",
        "means_roc = []\n",
        "means_accuracy = [100*round(log_reg_acc,4), 100*round(dtc_acc,4), 100*round(svc_acc,4), 100*round(knn_acc,4), 100*round(xgb_acc,4),\n",
        "                  100*round(ran_clf_acc,4), 100*round(gbc_acc,4)]\n",
        "\n",
        "for m in models:\n",
        "    model = m['model']\n",
        "    model.fit(X_train, y_train)\n",
        "    y_pred=model.predict(X_test)\n",
        "    fpr1, tpr1, thresholds = metrics.roc_curve(y_test, model.predict_proba(X_test)[:,1])\n",
        "    auc = metrics.roc_auc_score(y_test,model.predict(X_test))\n",
        "    auc = 100*round(auc,4)\n",
        "    means_roc.append(auc)\n",
        "\n",
        "print(means_accuracy)\n",
        "print(means_roc)\n",
        "\n",
        "# data to plot\n",
        "n_groups = 7\n",
        "means_accuracy = tuple(means_accuracy)\n",
        "means_roc = tuple(means_roc)\n",
        "\n",
        "# create plot\n",
        "fig, ax = plt.subplots(figsize=(8,5))\n",
        "index = np.arange(n_groups)\n",
        "bar_width = 0.35\n",
        "opacity = 0.8\n",
        "\n",
        "rects1 = plt.bar(index, means_accuracy, bar_width,\n",
        "alpha=opacity,\n",
        "color='mediumpurple',\n",
        "label='Accuracy (%)')\n",
        "\n",
        "rects2 = plt.bar(index + bar_width, means_roc, bar_width,\n",
        "alpha=opacity,\n",
        "color='rebeccapurple',\n",
        "label='ROC (%)')\n",
        "\n",
        "plt.xlim([-1, 8])\n",
        "plt.ylim([70, 104])\n",
        "\n",
        "plt.title('Performance Evaluation - Breast Cancer Prediction', fontsize=12)\n",
        "plt.xticks(index, ('   LR', '   DT', '   SVM', '   KNN', 'XGBoost' , '   RF', '   GBDT'), rotation=40, ha='center', fontsize=12)\n",
        "plt.legend(loc=\"upper right\", fontsize=10)\n",
        "plt.show()"
      ],
      "metadata": {
        "id": "LgFN4vj05L5F"
      },
      "execution_count": null,
      "outputs": []
    },
    {
      "cell_type": "markdown",
      "source": [
        "##Summary"
      ],
      "metadata": {
        "id": "G-etrOYpCXG5"
      }
    },
    {
      "cell_type": "markdown",
      "source": [
        "\n",
        "Worked through a classification predictive modeling machine learning problem from end-to-end using Python. Specifically, the steps covered were:\n",
        "\n",
        "- Problem Definition (Breast Cancer data).\n",
        "- Loading the Dataset.\n",
        "- Analyze Data (same scale but di↵erent distributions of data).\n",
        "- Evaluate Algorithms (KNN looked good).\n",
        "- Evaluate Algorithms with Standardization (KNN and SVM looked good).\n",
        "- Finalize Model (use all training data and confirm using validation dataset)."
      ],
      "metadata": {
        "id": "DMfUGrWACUue"
      }
    }
  ]
}